{
 "cells": [
  {
   "cell_type": "code",
   "execution_count": 33,
   "id": "34f21b82",
   "metadata": {},
   "outputs": [
    {
     "name": "stdout",
     "output_type": "stream",
     "text": [
      "Requirement already satisfied: qrcode in c:\\users\\user\\anaconda3\\lib\\site-packages (7.4.2)\n",
      "Requirement already satisfied: colorama in c:\\users\\user\\anaconda3\\lib\\site-packages (from qrcode) (0.4.5)\n",
      "Requirement already satisfied: typing-extensions in c:\\users\\user\\anaconda3\\lib\\site-packages (from qrcode) (4.3.0)\n",
      "Requirement already satisfied: pypng in c:\\users\\user\\anaconda3\\lib\\site-packages (from qrcode) (0.20220715.0)\n",
      "Note: you may need to restart the kernel to use updated packages.\n"
     ]
    }
   ],
   "source": [
    "pip install qrcode\n"
   ]
  },
  {
   "cell_type": "code",
   "execution_count": 34,
   "id": "ef3d6718",
   "metadata": {},
   "outputs": [],
   "source": [
    "import qrcode as qr\n"
   ]
  },
  {
   "cell_type": "code",
   "execution_count": 35,
   "id": "7ec2e81f",
   "metadata": {
    "scrolled": true
   },
   "outputs": [
    {
     "name": "stdout",
     "output_type": "stream",
     "text": [
      "Requirement already satisfied: image in c:\\users\\user\\anaconda3\\lib\\site-packages (1.5.33)\n",
      "Requirement already satisfied: pillow in c:\\users\\user\\anaconda3\\lib\\site-packages (from image) (9.2.0)\n",
      "Requirement already satisfied: six in c:\\users\\user\\anaconda3\\lib\\site-packages (from image) (1.16.0)\n",
      "Requirement already satisfied: django in c:\\users\\user\\anaconda3\\lib\\site-packages (from image) (4.2.4)\n",
      "Requirement already satisfied: sqlparse>=0.3.1 in c:\\users\\user\\anaconda3\\lib\\site-packages (from django->image) (0.4.4)\n",
      "Requirement already satisfied: tzdata in c:\\users\\user\\anaconda3\\lib\\site-packages (from django->image) (2023.3)\n",
      "Requirement already satisfied: asgiref<4,>=3.6.0 in c:\\users\\user\\anaconda3\\lib\\site-packages (from django->image) (3.7.2)\n",
      "Requirement already satisfied: typing-extensions>=4 in c:\\users\\user\\anaconda3\\lib\\site-packages (from asgiref<4,>=3.6.0->django->image) (4.3.0)\n",
      "Note: you may need to restart the kernel to use updated packages.\n"
     ]
    }
   ],
   "source": [
    "pip install image\n"
   ]
  },
  {
   "cell_type": "code",
   "execution_count": 36,
   "id": "56138e89",
   "metadata": {},
   "outputs": [],
   "source": [
    "import image"
   ]
  },
  {
   "cell_type": "code",
   "execution_count": 37,
   "id": "1d3bf249",
   "metadata": {},
   "outputs": [],
   "source": [
    "#img = qr.make(\"https://meet.google.com/zez-xhyv-sqi\")"
   ]
  },
  {
   "cell_type": "code",
   "execution_count": 38,
   "id": "93fe795e",
   "metadata": {},
   "outputs": [],
   "source": [
    "#img.save(\"meet.png\")"
   ]
  },
  {
   "cell_type": "code",
   "execution_count": 45,
   "id": "a98fde47",
   "metadata": {},
   "outputs": [],
   "source": [
    "qr = qrcode.QRCode (version=1,\n",
    "                   error_correction=qrcode.constants.ERROR_CORRECT_H,box_size=10,border=4,)"
   ]
  },
  {
   "cell_type": "code",
   "execution_count": 46,
   "id": "143a3eba",
   "metadata": {},
   "outputs": [],
   "source": [
    "qr.add_data(\"https://mail.google.com/mail/u/0/?tab=rm&ogbl#inbox\")"
   ]
  },
  {
   "cell_type": "code",
   "execution_count": 47,
   "id": "f79d137b",
   "metadata": {},
   "outputs": [],
   "source": [
    "qr.make(fit=True)"
   ]
  },
  {
   "cell_type": "code",
   "execution_count": 48,
   "id": "ce671cbd",
   "metadata": {},
   "outputs": [],
   "source": [
    "img=qr.make_image(fill_color=\"white\",back_color=\"black\")"
   ]
  },
  {
   "cell_type": "code",
   "execution_count": 49,
   "id": "ed47bd0d",
   "metadata": {},
   "outputs": [],
   "source": [
    "img.save(\"mail.png\")"
   ]
  },
  {
   "cell_type": "code",
   "execution_count": null,
   "id": "553fc045",
   "metadata": {},
   "outputs": [],
   "source": []
  }
 ],
 "metadata": {
  "kernelspec": {
   "display_name": "Python 3 (ipykernel)",
   "language": "python",
   "name": "python3"
  },
  "language_info": {
   "codemirror_mode": {
    "name": "ipython",
    "version": 3
   },
   "file_extension": ".py",
   "mimetype": "text/x-python",
   "name": "python",
   "nbconvert_exporter": "python",
   "pygments_lexer": "ipython3",
   "version": "3.9.13"
  }
 },
 "nbformat": 4,
 "nbformat_minor": 5
}
